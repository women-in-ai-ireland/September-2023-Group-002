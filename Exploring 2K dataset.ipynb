{
 "cells": [
  {
   "cell_type": "code",
   "execution_count": 1,
   "id": "449ea622",
   "metadata": {},
   "outputs": [
    {
     "name": "stdout",
     "output_type": "stream",
     "text": [
      "C:\\Users\\admin\\2K project\n"
     ]
    }
   ],
   "source": [
    "import os\n",
    "\n",
    "notebook_path = os.getcwd()\n",
    "print(notebook_path)"
   ]
  },
  {
   "cell_type": "code",
   "execution_count": 2,
   "id": "65b89e8e",
   "metadata": {
    "scrolled": true
   },
   "outputs": [
    {
     "name": "stderr",
     "output_type": "stream",
     "text": [
      "C:\\Users\\admin\\AppData\\Local\\Temp\\ipykernel_12468\\548057239.py:6: UserWarning: Parsing dates in DD/MM/YYYY format when dayfirst=False (the default) was specified. This may lead to inconsistently parsed dates! Specify a format to ensure consistent parsing.\n",
      "  demographic['Date Of Birth'] = pd.to_datetime(demographic['Date Of Birth'])\n"
     ]
    },
    {
     "name": "stdout",
     "output_type": "stream",
     "text": [
      "<class 'pandas.core.frame.DataFrame'>\n",
      "RangeIndex: 31441 entries, 0 to 31440\n",
      "Data columns (total 7 columns):\n",
      " #   Column              Non-Null Count  Dtype         \n",
      "---  ------              --------------  -----         \n",
      " 0   Customer ID         31441 non-null  int64         \n",
      " 1   Title               27363 non-null  object        \n",
      " 2   Date Of Birth       31441 non-null  datetime64[ns]\n",
      " 3   Address City        31441 non-null  object        \n",
      " 4   Contact Allowed     31441 non-null  object        \n",
      " 5   Registration Date   31441 non-null  datetime64[ns]\n",
      " 6   Source of Customer  31441 non-null  object        \n",
      "dtypes: datetime64[ns](2), int64(1), object(4)\n",
      "memory usage: 1.7+ MB\n"
     ]
    },
    {
     "data": {
      "text/html": [
       "<div>\n",
       "<style scoped>\n",
       "    .dataframe tbody tr th:only-of-type {\n",
       "        vertical-align: middle;\n",
       "    }\n",
       "\n",
       "    .dataframe tbody tr th {\n",
       "        vertical-align: top;\n",
       "    }\n",
       "\n",
       "    .dataframe thead th {\n",
       "        text-align: right;\n",
       "    }\n",
       "</style>\n",
       "<table border=\"1\" class=\"dataframe\">\n",
       "  <thead>\n",
       "    <tr style=\"text-align: right;\">\n",
       "      <th></th>\n",
       "      <th>Customer ID</th>\n",
       "      <th>Title</th>\n",
       "      <th>Date Of Birth</th>\n",
       "      <th>Address City</th>\n",
       "      <th>Contact Allowed</th>\n",
       "      <th>Registration Date</th>\n",
       "      <th>Source of Customer</th>\n",
       "    </tr>\n",
       "  </thead>\n",
       "  <tbody>\n",
       "    <tr>\n",
       "      <th>0</th>\n",
       "      <td>1</td>\n",
       "      <td>Mr</td>\n",
       "      <td>1973-06-29</td>\n",
       "      <td>Malahide</td>\n",
       "      <td>Y</td>\n",
       "      <td>2013-01-01 00:23:00</td>\n",
       "      <td>Organic Search</td>\n",
       "    </tr>\n",
       "    <tr>\n",
       "      <th>1</th>\n",
       "      <td>2</td>\n",
       "      <td>Mr</td>\n",
       "      <td>1984-07-25</td>\n",
       "      <td>Dublin</td>\n",
       "      <td>Y</td>\n",
       "      <td>2013-01-01 00:30:00</td>\n",
       "      <td>Affiliates</td>\n",
       "    </tr>\n",
       "    <tr>\n",
       "      <th>2</th>\n",
       "      <td>3</td>\n",
       "      <td>Mr</td>\n",
       "      <td>1991-01-05</td>\n",
       "      <td>Dublin</td>\n",
       "      <td>Y</td>\n",
       "      <td>2013-01-01 01:09:00</td>\n",
       "      <td>Paid Social</td>\n",
       "    </tr>\n",
       "    <tr>\n",
       "      <th>3</th>\n",
       "      <td>4</td>\n",
       "      <td>Mr</td>\n",
       "      <td>1986-11-30</td>\n",
       "      <td>Dublin</td>\n",
       "      <td>N</td>\n",
       "      <td>2013-01-01 01:19:00</td>\n",
       "      <td>Affiliates</td>\n",
       "    </tr>\n",
       "    <tr>\n",
       "      <th>4</th>\n",
       "      <td>5</td>\n",
       "      <td>Mr</td>\n",
       "      <td>1991-02-10</td>\n",
       "      <td>Limerick</td>\n",
       "      <td>Y</td>\n",
       "      <td>2013-01-01 01:58:00</td>\n",
       "      <td>Paid Search</td>\n",
       "    </tr>\n",
       "  </tbody>\n",
       "</table>\n",
       "</div>"
      ],
      "text/plain": [
       "   Customer ID Title Date Of Birth Address City Contact Allowed  \\\n",
       "0            1    Mr    1973-06-29     Malahide               Y   \n",
       "1            2    Mr    1984-07-25       Dublin               Y   \n",
       "2            3    Mr    1991-01-05       Dublin               Y   \n",
       "3            4    Mr    1986-11-30       Dublin               N   \n",
       "4            5    Mr    1991-02-10     Limerick               Y   \n",
       "\n",
       "    Registration Date Source of Customer  \n",
       "0 2013-01-01 00:23:00     Organic Search  \n",
       "1 2013-01-01 00:30:00         Affiliates  \n",
       "2 2013-01-01 01:09:00        Paid Social  \n",
       "3 2013-01-01 01:19:00         Affiliates  \n",
       "4 2013-01-01 01:58:00        Paid Search  "
      ]
     },
     "execution_count": 2,
     "metadata": {},
     "output_type": "execute_result"
    }
   ],
   "source": [
    "import pandas as pd\n",
    "import numpy as np\n",
    "import datetime \n",
    "demographic = pd.read_csv(r'C:\\\\Users\\\\admin\\\\2K project\\demographic_info.csv')\n",
    "value = pd.read_csv(r'C:\\\\Users\\\\admin\\\\2K project\\value_info.csv')\n",
    "demographic['Date Of Birth'] = pd.to_datetime(demographic['Date Of Birth'])\n",
    "demographic['Registration Date'] = pd.to_datetime(demographic['Registration Date'])\n",
    "demographic.info()\n",
    "demographic.head()"
   ]
  },
  {
   "cell_type": "code",
   "execution_count": 3,
   "id": "ce1074fb",
   "metadata": {
    "scrolled": true
   },
   "outputs": [
    {
     "name": "stdout",
     "output_type": "stream",
     "text": [
      "<class 'pandas.core.frame.DataFrame'>\n",
      "RangeIndex: 30591 entries, 0 to 30590\n",
      "Data columns (total 5 columns):\n",
      " #   Column                         Non-Null Count  Dtype\n",
      "---  ------                         --------------  -----\n",
      " 0   Customer ID                    30591 non-null  int64\n",
      " 1   1st Order Profit               30591 non-null  int64\n",
      " 2   Subsequent Order Profit        30591 non-null  int64\n",
      " 3   Subsequent Orders Count        30591 non-null  int64\n",
      " 4   Total value of all promotions  30591 non-null  int64\n",
      "dtypes: int64(5)\n",
      "memory usage: 1.2 MB\n"
     ]
    },
    {
     "data": {
      "text/html": [
       "<div>\n",
       "<style scoped>\n",
       "    .dataframe tbody tr th:only-of-type {\n",
       "        vertical-align: middle;\n",
       "    }\n",
       "\n",
       "    .dataframe tbody tr th {\n",
       "        vertical-align: top;\n",
       "    }\n",
       "\n",
       "    .dataframe thead th {\n",
       "        text-align: right;\n",
       "    }\n",
       "</style>\n",
       "<table border=\"1\" class=\"dataframe\">\n",
       "  <thead>\n",
       "    <tr style=\"text-align: right;\">\n",
       "      <th></th>\n",
       "      <th>Customer ID</th>\n",
       "      <th>1st Order Profit</th>\n",
       "      <th>Subsequent Order Profit</th>\n",
       "      <th>Subsequent Orders Count</th>\n",
       "      <th>Total value of all promotions</th>\n",
       "    </tr>\n",
       "  </thead>\n",
       "  <tbody>\n",
       "    <tr>\n",
       "      <th>0</th>\n",
       "      <td>1</td>\n",
       "      <td>9</td>\n",
       "      <td>5</td>\n",
       "      <td>1</td>\n",
       "      <td>7</td>\n",
       "    </tr>\n",
       "    <tr>\n",
       "      <th>1</th>\n",
       "      <td>2</td>\n",
       "      <td>8</td>\n",
       "      <td>70</td>\n",
       "      <td>7</td>\n",
       "      <td>7</td>\n",
       "    </tr>\n",
       "    <tr>\n",
       "      <th>2</th>\n",
       "      <td>3</td>\n",
       "      <td>14</td>\n",
       "      <td>51</td>\n",
       "      <td>7</td>\n",
       "      <td>0</td>\n",
       "    </tr>\n",
       "    <tr>\n",
       "      <th>3</th>\n",
       "      <td>4</td>\n",
       "      <td>14</td>\n",
       "      <td>0</td>\n",
       "      <td>0</td>\n",
       "      <td>0</td>\n",
       "    </tr>\n",
       "    <tr>\n",
       "      <th>4</th>\n",
       "      <td>5</td>\n",
       "      <td>23</td>\n",
       "      <td>68</td>\n",
       "      <td>9</td>\n",
       "      <td>15</td>\n",
       "    </tr>\n",
       "  </tbody>\n",
       "</table>\n",
       "</div>"
      ],
      "text/plain": [
       "   Customer ID  1st Order Profit  Subsequent Order Profit  \\\n",
       "0            1                 9                        5   \n",
       "1            2                 8                       70   \n",
       "2            3                14                       51   \n",
       "3            4                14                        0   \n",
       "4            5                23                       68   \n",
       "\n",
       "   Subsequent Orders Count  Total value of all promotions  \n",
       "0                        1                              7  \n",
       "1                        7                              7  \n",
       "2                        7                              0  \n",
       "3                        0                              0  \n",
       "4                        9                             15  "
      ]
     },
     "execution_count": 3,
     "metadata": {},
     "output_type": "execute_result"
    }
   ],
   "source": [
    "value.info()\n",
    "value.head()"
   ]
  },
  {
   "cell_type": "code",
   "execution_count": 4,
   "id": "0e4d3416",
   "metadata": {
    "scrolled": true
   },
   "outputs": [
    {
     "name": "stdout",
     "output_type": "stream",
     "text": [
      "       Customer ID Title Date Of Birth Address City Contact Allowed  \\\n",
      "0                1    Mr    1973-06-29     Malahide               Y   \n",
      "1                2    Mr    1984-07-25       Dublin               Y   \n",
      "2                3    Mr    1991-01-05       Dublin               Y   \n",
      "3                4    Mr    1986-11-30       Dublin               N   \n",
      "4                5    Mr    1991-02-10     Limerick               Y   \n",
      "...            ...   ...           ...          ...             ...   \n",
      "30586        31437    Mr    1964-12-19       Dublin               N   \n",
      "30587        31438    Mr    1977-09-23    Mullingar               Y   \n",
      "30588        31439    Mr    1988-02-07       Dublin               Y   \n",
      "30589        31440  Miss    1993-10-02       Dublin               Y   \n",
      "30590        31441    Mr    1971-12-18  Letterkenny               Y   \n",
      "\n",
      "        Registration Date Source of Customer  1st Order Profit  \\\n",
      "0     2013-01-01 00:23:00     Organic Search                 9   \n",
      "1     2013-01-01 00:30:00         Affiliates                 8   \n",
      "2     2013-01-01 01:09:00        Paid Social                14   \n",
      "3     2013-01-01 01:19:00         Affiliates                14   \n",
      "4     2013-01-01 01:58:00        Paid Search                23   \n",
      "...                   ...                ...               ...   \n",
      "30586 2013-03-15 17:28:00         Affiliates                11   \n",
      "30587 2013-03-15 17:28:00        Paid Search                21   \n",
      "30588 2013-03-15 17:28:00        Paid Social                 7   \n",
      "30589 2013-03-15 17:29:00             Direct                 9   \n",
      "30590 2013-03-15 17:30:00             Direct                 3   \n",
      "\n",
      "       Subsequent Order Profit  Subsequent Orders Count  \\\n",
      "0                            5                        1   \n",
      "1                           70                        7   \n",
      "2                           51                        7   \n",
      "3                            0                        0   \n",
      "4                           68                        9   \n",
      "...                        ...                      ...   \n",
      "30586                       97                        9   \n",
      "30587                       70                       10   \n",
      "30588                       42                        4   \n",
      "30589                        0                        0   \n",
      "30590                       69                        6   \n",
      "\n",
      "       Total value of all promotions  \n",
      "0                                  7  \n",
      "1                                  7  \n",
      "2                                  0  \n",
      "3                                  0  \n",
      "4                                 15  \n",
      "...                              ...  \n",
      "30586                             28  \n",
      "30587                              9  \n",
      "30588                              0  \n",
      "30589                              3  \n",
      "30590                              9  \n",
      "\n",
      "[30591 rows x 11 columns]\n",
      "<class 'pandas.core.frame.DataFrame'>\n",
      "Int64Index: 30591 entries, 0 to 30590\n",
      "Data columns (total 11 columns):\n",
      " #   Column                         Non-Null Count  Dtype         \n",
      "---  ------                         --------------  -----         \n",
      " 0   Customer ID                    30591 non-null  int64         \n",
      " 1   Title                          26616 non-null  object        \n",
      " 2   Date Of Birth                  30591 non-null  datetime64[ns]\n",
      " 3   Address City                   30591 non-null  object        \n",
      " 4   Contact Allowed                30591 non-null  object        \n",
      " 5   Registration Date              30591 non-null  datetime64[ns]\n",
      " 6   Source of Customer             30591 non-null  object        \n",
      " 7   1st Order Profit               30591 non-null  int64         \n",
      " 8   Subsequent Order Profit        30591 non-null  int64         \n",
      " 9   Subsequent Orders Count        30591 non-null  int64         \n",
      " 10  Total value of all promotions  30591 non-null  int64         \n",
      "dtypes: datetime64[ns](2), int64(5), object(4)\n",
      "memory usage: 2.8+ MB\n"
     ]
    },
    {
     "data": {
      "text/html": [
       "<div>\n",
       "<style scoped>\n",
       "    .dataframe tbody tr th:only-of-type {\n",
       "        vertical-align: middle;\n",
       "    }\n",
       "\n",
       "    .dataframe tbody tr th {\n",
       "        vertical-align: top;\n",
       "    }\n",
       "\n",
       "    .dataframe thead th {\n",
       "        text-align: right;\n",
       "    }\n",
       "</style>\n",
       "<table border=\"1\" class=\"dataframe\">\n",
       "  <thead>\n",
       "    <tr style=\"text-align: right;\">\n",
       "      <th></th>\n",
       "      <th>Customer ID</th>\n",
       "      <th>Title</th>\n",
       "      <th>Date Of Birth</th>\n",
       "      <th>Address City</th>\n",
       "      <th>Contact Allowed</th>\n",
       "      <th>Registration Date</th>\n",
       "      <th>Source of Customer</th>\n",
       "      <th>1st Order Profit</th>\n",
       "      <th>Subsequent Order Profit</th>\n",
       "      <th>Subsequent Orders Count</th>\n",
       "      <th>Total value of all promotions</th>\n",
       "    </tr>\n",
       "  </thead>\n",
       "  <tbody>\n",
       "    <tr>\n",
       "      <th>0</th>\n",
       "      <td>1</td>\n",
       "      <td>Mr</td>\n",
       "      <td>1973-06-29</td>\n",
       "      <td>Malahide</td>\n",
       "      <td>Y</td>\n",
       "      <td>2013-01-01 00:23:00</td>\n",
       "      <td>Organic Search</td>\n",
       "      <td>9</td>\n",
       "      <td>5</td>\n",
       "      <td>1</td>\n",
       "      <td>7</td>\n",
       "    </tr>\n",
       "    <tr>\n",
       "      <th>1</th>\n",
       "      <td>2</td>\n",
       "      <td>Mr</td>\n",
       "      <td>1984-07-25</td>\n",
       "      <td>Dublin</td>\n",
       "      <td>Y</td>\n",
       "      <td>2013-01-01 00:30:00</td>\n",
       "      <td>Affiliates</td>\n",
       "      <td>8</td>\n",
       "      <td>70</td>\n",
       "      <td>7</td>\n",
       "      <td>7</td>\n",
       "    </tr>\n",
       "    <tr>\n",
       "      <th>2</th>\n",
       "      <td>3</td>\n",
       "      <td>Mr</td>\n",
       "      <td>1991-01-05</td>\n",
       "      <td>Dublin</td>\n",
       "      <td>Y</td>\n",
       "      <td>2013-01-01 01:09:00</td>\n",
       "      <td>Paid Social</td>\n",
       "      <td>14</td>\n",
       "      <td>51</td>\n",
       "      <td>7</td>\n",
       "      <td>0</td>\n",
       "    </tr>\n",
       "    <tr>\n",
       "      <th>3</th>\n",
       "      <td>4</td>\n",
       "      <td>Mr</td>\n",
       "      <td>1986-11-30</td>\n",
       "      <td>Dublin</td>\n",
       "      <td>N</td>\n",
       "      <td>2013-01-01 01:19:00</td>\n",
       "      <td>Affiliates</td>\n",
       "      <td>14</td>\n",
       "      <td>0</td>\n",
       "      <td>0</td>\n",
       "      <td>0</td>\n",
       "    </tr>\n",
       "    <tr>\n",
       "      <th>4</th>\n",
       "      <td>5</td>\n",
       "      <td>Mr</td>\n",
       "      <td>1991-02-10</td>\n",
       "      <td>Limerick</td>\n",
       "      <td>Y</td>\n",
       "      <td>2013-01-01 01:58:00</td>\n",
       "      <td>Paid Search</td>\n",
       "      <td>23</td>\n",
       "      <td>68</td>\n",
       "      <td>9</td>\n",
       "      <td>15</td>\n",
       "    </tr>\n",
       "  </tbody>\n",
       "</table>\n",
       "</div>"
      ],
      "text/plain": [
       "   Customer ID Title Date Of Birth Address City Contact Allowed  \\\n",
       "0            1    Mr    1973-06-29     Malahide               Y   \n",
       "1            2    Mr    1984-07-25       Dublin               Y   \n",
       "2            3    Mr    1991-01-05       Dublin               Y   \n",
       "3            4    Mr    1986-11-30       Dublin               N   \n",
       "4            5    Mr    1991-02-10     Limerick               Y   \n",
       "\n",
       "    Registration Date Source of Customer  1st Order Profit  \\\n",
       "0 2013-01-01 00:23:00     Organic Search                 9   \n",
       "1 2013-01-01 00:30:00         Affiliates                 8   \n",
       "2 2013-01-01 01:09:00        Paid Social                14   \n",
       "3 2013-01-01 01:19:00         Affiliates                14   \n",
       "4 2013-01-01 01:58:00        Paid Search                23   \n",
       "\n",
       "   Subsequent Order Profit  Subsequent Orders Count  \\\n",
       "0                        5                        1   \n",
       "1                       70                        7   \n",
       "2                       51                        7   \n",
       "3                        0                        0   \n",
       "4                       68                        9   \n",
       "\n",
       "   Total value of all promotions  \n",
       "0                              7  \n",
       "1                              7  \n",
       "2                              0  \n",
       "3                              0  \n",
       "4                             15  "
      ]
     },
     "execution_count": 4,
     "metadata": {},
     "output_type": "execute_result"
    }
   ],
   "source": [
    "merged_df = pd.merge(demographic, value, on='Customer ID', how='inner')\n",
    "merged_df['Registration Date'] = pd.to_datetime(merged_df['Registration Date'])\n",
    "print(merged_df)\n",
    "merged_df.info()\n",
    "merged_df.head()"
   ]
  },
  {
   "cell_type": "code",
   "execution_count": 5,
   "id": "c5004c46",
   "metadata": {},
   "outputs": [
    {
     "ename": "NameError",
     "evalue": "name 'Len' is not defined",
     "output_type": "error",
     "traceback": [
      "\u001b[1;31m---------------------------------------------------------------------------\u001b[0m",
      "\u001b[1;31mNameError\u001b[0m                                 Traceback (most recent call last)",
      "Cell \u001b[1;32mIn[5], line 1\u001b[0m\n\u001b[1;32m----> 1\u001b[0m Len()\n",
      "\u001b[1;31mNameError\u001b[0m: name 'Len' is not defined"
     ]
    }
   ],
   "source": [
    "Len()"
   ]
  },
  {
   "cell_type": "code",
   "execution_count": null,
   "id": "3dfa69a2",
   "metadata": {
    "scrolled": true
   },
   "outputs": [],
   "source": [
    "merged_df['Net Sales'] = merged_df['1st Order Profit'] + merged_df['Subsequent Order Profit'] - merged_df['Total value of all promotions']\n",
    "merged_df['average_net_sales'] = merged_df['Net Sales'] / (merged_df['Subsequent Orders Count'] + 1)\n",
    "print(merged_df)\n",
    "merged_df.info()\n",
    "merged_df.head()"
   ]
  },
  {
   "cell_type": "code",
   "execution_count": null,
   "id": "987fffc9",
   "metadata": {
    "scrolled": true
   },
   "outputs": [],
   "source": [
    "from datetime import date\n",
    "now = pd.Timestamp('now')\n",
    "merged_df['age'] = (now - merged_df['Date Of Birth']).astype('<m8[Y]')\n",
    "print(merged_df)\n",
    "merged_df.info()\n",
    "merged_df.head()"
   ]
  },
  {
   "cell_type": "code",
   "execution_count": null,
   "id": "372b9b8f",
   "metadata": {
    "scrolled": true
   },
   "outputs": [],
   "source": [
    "from datetime import date\n",
    "merged_df['Registration Date'] = pd.to_datetime(merged_df['Registration Date'])\n",
    "print(merged_df)\n",
    "merged_df.info()\n",
    "merged_df.head()"
   ]
  },
  {
   "cell_type": "code",
   "execution_count": null,
   "id": "e48c7870",
   "metadata": {
    "scrolled": true
   },
   "outputs": [],
   "source": [
    "from datetime import datetime\n",
    "target_date = datetime(2013, 6, 30)\n",
    "merged_df['tenure'] = (target_date - merged_df['Registration Date']).dt.days\n",
    "print(merged_df)\n",
    "merged_df.info()\n",
    "merged_df.head()"
   ]
  },
  {
   "cell_type": "code",
   "execution_count": null,
   "id": "d99508e1",
   "metadata": {},
   "outputs": [],
   "source": [
    "merged_df.tail()"
   ]
  },
  {
   "cell_type": "code",
   "execution_count": null,
   "id": "87924060",
   "metadata": {
    "scrolled": true
   },
   "outputs": [],
   "source": [
    "title_to_gender = {\n",
    "    'Mr': 'Male',\n",
    "    'Mrs': 'Female',\n",
    "    'Miss': 'Female',\n",
    "    'Ms': 'Female',\n",
    "    ' ': 'N/A',\n",
    "}\n",
    "merged_df['Gender'] = merged_df['Title'].map(title_to_gender)\n",
    "print(merged_df)\n",
    "merged_df.head()"
   ]
  },
  {
   "cell_type": "code",
   "execution_count": null,
   "id": "d724bc46",
   "metadata": {},
   "outputs": [],
   "source": [
    "def classify_age(age):\n",
    "    if 18 <= age <= 34:\n",
    "        return 'Millennials'\n",
    "    elif 35 <= age <= 54:\n",
    "        return 'Generation X'\n",
    "    elif 55 <= age <= 74:\n",
    "        return 'Baby Boomers'\n",
    "    else:\n",
    "        return 'Senior Citizens'\n",
    "merged_df['Age Group'] = merged_df['age'].apply(classify_age)\n",
    "print(merged_df)\n",
    "merged_df.info()\n",
    "merged_df.head()"
   ]
  },
  {
   "cell_type": "code",
   "execution_count": null,
   "id": "390df8d2",
   "metadata": {
    "scrolled": true
   },
   "outputs": [],
   "source": [
    "merged_df.describe().T"
   ]
  },
  {
   "cell_type": "code",
   "execution_count": null,
   "id": "cb0179c4",
   "metadata": {
    "scrolled": true
   },
   "outputs": [],
   "source": [
    "merged_df.describe(include='all').T"
   ]
  },
  {
   "cell_type": "code",
   "execution_count": null,
   "id": "eef4c6df",
   "metadata": {},
   "outputs": [],
   "source": [
    "cost = pd.read_csv(r'C:\\\\Users\\\\admin\\\\2K project\\cost_data.csv')\n",
    "print(cost)\n",
    "cost.info()\n",
    "cost.head()"
   ]
  },
  {
   "cell_type": "code",
   "execution_count": null,
   "id": "7157988c",
   "metadata": {},
   "outputs": [],
   "source": [
    "#Define business problem (what data to use)\n",
    "#Define customer behaviour (tenure, subsequent orders count, net sales: how recent did the customers register with the retailer, how frequent did they come back, how much did they spend)\n",
    "#Define channel performance (Source of Customer and Cost: how did they know about the retailer and does that break even with the cost?)\n",
    "#Define demographic differences (Age Group, Gender, Location)"
   ]
  },
  {
   "cell_type": "code",
   "execution_count": null,
   "id": "873d0269",
   "metadata": {},
   "outputs": [],
   "source": [
    "#Visualise the correlations\n",
    "#1. Visualise the growth of net sales and total numbers of orders during the three months\n",
    "#2. Build the RFM model to find leads (to answer the question \"who\")\n",
    "#3. Put together and visualise source of customers, net sales, and cost (why is there no paid social cost data?)"
   ]
  },
  {
   "cell_type": "code",
   "execution_count": null,
   "id": "5e966554",
   "metadata": {},
   "outputs": [],
   "source": []
  }
 ],
 "metadata": {
  "kernelspec": {
   "display_name": "Python 3 (ipykernel)",
   "language": "python",
   "name": "python3"
  },
  "language_info": {
   "codemirror_mode": {
    "name": "ipython",
    "version": 3
   },
   "file_extension": ".py",
   "mimetype": "text/x-python",
   "name": "python",
   "nbconvert_exporter": "python",
   "pygments_lexer": "ipython3",
   "version": "3.11.4"
  }
 },
 "nbformat": 4,
 "nbformat_minor": 5
}
